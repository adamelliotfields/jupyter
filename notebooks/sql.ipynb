{
 "cells": [
  {
   "cell_type": "markdown",
   "metadata": {},
   "source": [
    "# SQL\n",
    "\n",
    "[![Open in Colab](https://colab.research.google.com/assets/colab-badge.svg)](https://colab.research.google.com/github/adamelliotfields/jupyter/blob/main/notebooks/sql.ipynb)\n",
    "[![Render nbviewer](https://raw.githubusercontent.com/jupyter/design/main/logos/Badges/nbviewer_badge.svg)](https://nbviewer.org/github/adamelliotfields/jupyter/blob/main/notebooks/sql.ipynb)"
   ]
  },
  {
   "cell_type": "code",
   "execution_count": 1,
   "metadata": {},
   "outputs": [],
   "source": [
    "%load_ext sql\n",
    "\n",
    "# https://jupysql.ploomber.io/en/latest/api/configuration.html#options\n",
    "%config SqlMagic.autopandas = False\n",
    "%config SqlMagic.displaycon = False\n",
    "%config SqlMagic.displaylimit = 20\n",
    "%config SqlMagic.feedback = 0\n",
    "\n",
    "%sql duckdb://\n"
   ]
  },
  {
   "cell_type": "code",
   "execution_count": 2,
   "metadata": {
    "vscode": {
     "languageId": "shellscript"
    }
   },
   "outputs": [
    {
     "name": "stderr",
     "output_type": "stream",
     "text": [
      "100%|██████████| 4.29M/4.29M [00:00<00:00, 5.52MB/s]\n"
     ]
    }
   ],
   "source": [
    "%%bash\n",
    "# check for $KAGGLE_USERNAME AND $KAGGLE_KEY\n",
    "if [ -z \"$KAGGLE_USERNAME\" ] ; then\n",
    "  echo \"error: KAGGLE_USERNAME is not set\"\n",
    "  exit 0\n",
    "fi\n",
    "\n",
    "if [ -z \"$KAGGLE_KEY\" ] ; then\n",
    "  echo \"error: KAGGLE_KEY is not set\"\n",
    "  exit 0\n",
    "fi\n",
    "\n",
    "# download the Sakila dataset from Kaggle\n",
    "# https://motherduck.com/blog/analyze-sqlite-databases-duckdb\n",
    "rm -f sqlite-sakila-sample-database.zip sqlite-sakila.db README.txt 'SQLite3 Sakila Sample Database ERD.png'\n",
    "rm -rf sqlite-sakila-db/\n",
    "poetry run kaggle datasets download --force --unzip -d atanaskanev/sqlite-sakila-sample-database\n"
   ]
  },
  {
   "cell_type": "code",
   "execution_count": 3,
   "metadata": {},
   "outputs": [],
   "source": [
    "import duckdb\n",
    "conn = duckdb.connect()\n",
    "# native Python DBAPI connection bypasses SQLAlchemy (works better in Jupyter)\n",
    "# this prevents `%sqlcmd` commands from working as they are provided by SQLAlchemy\n",
    "%sql conn\n"
   ]
  },
  {
   "cell_type": "code",
   "execution_count": 4,
   "metadata": {
    "vscode": {
     "languageId": "sql"
    }
   },
   "outputs": [
    {
     "data": {
      "text/html": [
       "<table>\n",
       "    <thead>\n",
       "        <tr>\n",
       "            <th>Success</th>\n",
       "        </tr>\n",
       "    </thead>\n",
       "    <tbody>\n",
       "    </tbody>\n",
       "</table>"
      ],
      "text/plain": [
       "| Success |\n",
       "|:-------:|"
      ]
     },
     "execution_count": 4,
     "metadata": {},
     "output_type": "execute_result"
    }
   ],
   "source": [
    "%%sql\n",
    "-- load the SQLite extension for DuckDB\n",
    "INSTALL sqlite;\n",
    "LOAD sqlite;\n",
    "-- normally duckdb attempts to infer the type of the columns from sqlite\n",
    "-- set this to `true` to instruct duckdb to treat all sqlite columns as `VARCHAR`\n",
    "-- https://duckdb.org/docs/extensions/sqlite_scanner.html#data-types\n",
    "SET GLOBAL sqlite_all_varchar=false;\n",
    "CALL sqlite_attach('sqlite-sakila.db');\n"
   ]
  },
  {
   "cell_type": "code",
   "execution_count": 5,
   "metadata": {
    "vscode": {
     "languageId": "sql"
    }
   },
   "outputs": [
    {
     "data": {
      "text/html": [
       "<table>\n",
       "    <thead>\n",
       "        <tr>\n",
       "            <th>name</th>\n",
       "        </tr>\n",
       "    </thead>\n",
       "    <tbody>\n",
       "        <tr>\n",
       "            <td>actor</td>\n",
       "        </tr>\n",
       "        <tr>\n",
       "            <td>address</td>\n",
       "        </tr>\n",
       "        <tr>\n",
       "            <td>category</td>\n",
       "        </tr>\n",
       "        <tr>\n",
       "            <td>city</td>\n",
       "        </tr>\n",
       "        <tr>\n",
       "            <td>country</td>\n",
       "        </tr>\n",
       "        <tr>\n",
       "            <td>customer</td>\n",
       "        </tr>\n",
       "        <tr>\n",
       "            <td>customer_list</td>\n",
       "        </tr>\n",
       "        <tr>\n",
       "            <td>film</td>\n",
       "        </tr>\n",
       "        <tr>\n",
       "            <td>film_actor</td>\n",
       "        </tr>\n",
       "        <tr>\n",
       "            <td>film_category</td>\n",
       "        </tr>\n",
       "        <tr>\n",
       "            <td>film_list</td>\n",
       "        </tr>\n",
       "        <tr>\n",
       "            <td>film_text</td>\n",
       "        </tr>\n",
       "        <tr>\n",
       "            <td>inventory</td>\n",
       "        </tr>\n",
       "        <tr>\n",
       "            <td>language</td>\n",
       "        </tr>\n",
       "        <tr>\n",
       "            <td>payment</td>\n",
       "        </tr>\n",
       "        <tr>\n",
       "            <td>rental</td>\n",
       "        </tr>\n",
       "        <tr>\n",
       "            <td>sales_by_film_category</td>\n",
       "        </tr>\n",
       "        <tr>\n",
       "            <td>sales_by_store</td>\n",
       "        </tr>\n",
       "        <tr>\n",
       "            <td>staff</td>\n",
       "        </tr>\n",
       "        <tr>\n",
       "            <td>staff_list</td>\n",
       "        </tr>\n",
       "    </tbody>\n",
       "</table>\n",
       "<span style=\"font-style:italic;text-align:center;\">Truncated to <a href=\"https://jupysql.ploomber.io/en/latest/api/configuration.html#displaylimit\">displaylimit</a> of 20.</span>"
      ],
      "text/plain": [
       "|          name          |\n",
       "|:----------------------:|\n",
       "|         actor          |\n",
       "|        address         |\n",
       "|        category        |\n",
       "|          city          |\n",
       "|        country         |\n",
       "|        customer        |\n",
       "|     customer_list      |\n",
       "|          film          |\n",
       "|       film_actor       |\n",
       "|     film_category      |\n",
       "|       film_list        |\n",
       "|       film_text        |\n",
       "|       inventory        |\n",
       "|        language        |\n",
       "|        payment         |\n",
       "|         rental         |\n",
       "| sales_by_film_category |\n",
       "|     sales_by_store     |\n",
       "|         staff          |\n",
       "|       staff_list       |\n",
       "Truncated to displaylimit of 20."
      ]
     },
     "execution_count": 5,
     "metadata": {},
     "output_type": "execute_result"
    }
   ],
   "source": [
    "%%sql\n",
    "-- SELECT * FROM information_schema.tables;\n",
    "SHOW TABLES;\n"
   ]
  },
  {
   "cell_type": "code",
   "execution_count": 6,
   "metadata": {
    "vscode": {
     "languageId": "sql"
    }
   },
   "outputs": [
    {
     "data": {
      "text/html": [
       "<table>\n",
       "    <thead>\n",
       "        <tr>\n",
       "            <th>column_name</th>\n",
       "            <th>column_type</th>\n",
       "            <th>null</th>\n",
       "            <th>key</th>\n",
       "            <th>default</th>\n",
       "            <th>extra</th>\n",
       "        </tr>\n",
       "    </thead>\n",
       "    <tbody>\n",
       "        <tr>\n",
       "            <td>actor_id</td>\n",
       "            <td>DOUBLE</td>\n",
       "            <td>YES</td>\n",
       "            <td>None</td>\n",
       "            <td>None</td>\n",
       "            <td>None</td>\n",
       "        </tr>\n",
       "        <tr>\n",
       "            <td>first_name</td>\n",
       "            <td>VARCHAR</td>\n",
       "            <td>YES</td>\n",
       "            <td>None</td>\n",
       "            <td>None</td>\n",
       "            <td>None</td>\n",
       "        </tr>\n",
       "        <tr>\n",
       "            <td>last_name</td>\n",
       "            <td>VARCHAR</td>\n",
       "            <td>YES</td>\n",
       "            <td>None</td>\n",
       "            <td>None</td>\n",
       "            <td>None</td>\n",
       "        </tr>\n",
       "        <tr>\n",
       "            <td>last_update</td>\n",
       "            <td>TIMESTAMP</td>\n",
       "            <td>YES</td>\n",
       "            <td>None</td>\n",
       "            <td>None</td>\n",
       "            <td>None</td>\n",
       "        </tr>\n",
       "    </tbody>\n",
       "</table>"
      ],
      "text/plain": [
       "| column_name | column_type | null | key  | default | extra |\n",
       "|:-----------:|:-----------:|:----:|:----:|:-------:|:-----:|\n",
       "|   actor_id  |    DOUBLE   | YES  | None |   None  |  None |\n",
       "|  first_name |   VARCHAR   | YES  | None |   None  |  None |\n",
       "|  last_name  |   VARCHAR   | YES  | None |   None  |  None |\n",
       "| last_update |  TIMESTAMP  | YES  | None |   None  |  None |"
      ]
     },
     "execution_count": 6,
     "metadata": {},
     "output_type": "execute_result"
    }
   ],
   "source": [
    "%%sql\n",
    "-- SELECT column_name, column_default, is_nullable FROM information_schema.columns WHERE table_name = 'actor';\n",
    "DESCRIBE actor;\n"
   ]
  },
  {
   "cell_type": "code",
   "execution_count": 7,
   "metadata": {
    "vscode": {
     "languageId": "sql"
    }
   },
   "outputs": [
    {
     "data": {
      "text/html": [
       "<table>\n",
       "    <thead>\n",
       "        <tr>\n",
       "            <th>category_name</th>\n",
       "            <th>total</th>\n",
       "        </tr>\n",
       "    </thead>\n",
       "    <tbody>\n",
       "        <tr>\n",
       "            <td>Sports</td>\n",
       "            <td>1179</td>\n",
       "        </tr>\n",
       "        <tr>\n",
       "            <td>Animation</td>\n",
       "            <td>1166</td>\n",
       "        </tr>\n",
       "        <tr>\n",
       "            <td>Action</td>\n",
       "            <td>1112</td>\n",
       "        </tr>\n",
       "        <tr>\n",
       "            <td>Sci-Fi</td>\n",
       "            <td>1101</td>\n",
       "        </tr>\n",
       "        <tr>\n",
       "            <td>Family</td>\n",
       "            <td>1096</td>\n",
       "        </tr>\n",
       "        <tr>\n",
       "            <td>Drama</td>\n",
       "            <td>1060</td>\n",
       "        </tr>\n",
       "        <tr>\n",
       "            <td>Documentary</td>\n",
       "            <td>1050</td>\n",
       "        </tr>\n",
       "        <tr>\n",
       "            <td>Foreign</td>\n",
       "            <td>1033</td>\n",
       "        </tr>\n",
       "        <tr>\n",
       "            <td>Games</td>\n",
       "            <td>969</td>\n",
       "        </tr>\n",
       "        <tr>\n",
       "            <td>Children</td>\n",
       "            <td>945</td>\n",
       "        </tr>\n",
       "        <tr>\n",
       "            <td>Comedy</td>\n",
       "            <td>941</td>\n",
       "        </tr>\n",
       "        <tr>\n",
       "            <td>New</td>\n",
       "            <td>940</td>\n",
       "        </tr>\n",
       "        <tr>\n",
       "            <td>Classics</td>\n",
       "            <td>939</td>\n",
       "        </tr>\n",
       "        <tr>\n",
       "            <td>Horror</td>\n",
       "            <td>846</td>\n",
       "        </tr>\n",
       "        <tr>\n",
       "            <td>Travel</td>\n",
       "            <td>837</td>\n",
       "        </tr>\n",
       "        <tr>\n",
       "            <td>Music</td>\n",
       "            <td>830</td>\n",
       "        </tr>\n",
       "    </tbody>\n",
       "</table>"
      ],
      "text/plain": [
       "| category_name | total |\n",
       "|:-------------:|:-----:|\n",
       "|     Sports    |  1179 |\n",
       "|   Animation   |  1166 |\n",
       "|     Action    |  1112 |\n",
       "|     Sci-Fi    |  1101 |\n",
       "|     Family    |  1096 |\n",
       "|     Drama     |  1060 |\n",
       "|  Documentary  |  1050 |\n",
       "|    Foreign    |  1033 |\n",
       "|     Games     |  969  |\n",
       "|    Children   |  945  |\n",
       "|     Comedy    |  941  |\n",
       "|      New      |  940  |\n",
       "|    Classics   |  939  |\n",
       "|     Horror    |  846  |\n",
       "|     Travel    |  837  |\n",
       "|     Music     |  830  |"
      ]
     },
     "execution_count": 7,
     "metadata": {},
     "output_type": "execute_result"
    }
   ],
   "source": [
    "%%sql\n",
    "-- show total by category\n",
    "SELECT c.name category_name, count(*) total\n",
    "FROM rental r\n",
    "LEFT JOIN inventory i USING (inventory_id)\n",
    "LEFT JOIN film_category fc USING (film_id)\n",
    "LEFT JOIN category c USING (category_id)\n",
    "GROUP BY category_name\n",
    "ORDER BY total DESC;\n"
   ]
  },
  {
   "cell_type": "code",
   "execution_count": 8,
   "metadata": {
    "vscode": {
     "languageId": "sql"
    }
   },
   "outputs": [
    {
     "data": {
      "text/html": [
       "<table>\n",
       "    <thead>\n",
       "        <tr>\n",
       "            <th>category_name</th>\n",
       "            <th>revenue</th>\n",
       "        </tr>\n",
       "    </thead>\n",
       "    <tbody>\n",
       "        <tr>\n",
       "            <td>Sports</td>\n",
       "            <td>5314.209999999848</td>\n",
       "        </tr>\n",
       "        <tr>\n",
       "            <td>Sci-Fi</td>\n",
       "            <td>4756.979999999872</td>\n",
       "        </tr>\n",
       "        <tr>\n",
       "            <td>Animation</td>\n",
       "            <td>4656.299999999864</td>\n",
       "        </tr>\n",
       "        <tr>\n",
       "            <td>Drama</td>\n",
       "            <td>4587.389999999875</td>\n",
       "        </tr>\n",
       "        <tr>\n",
       "            <td>Comedy</td>\n",
       "            <td>4383.579999999896</td>\n",
       "        </tr>\n",
       "        <tr>\n",
       "            <td>Action</td>\n",
       "            <td>4375.849999999871</td>\n",
       "        </tr>\n",
       "        <tr>\n",
       "            <td>New</td>\n",
       "            <td>4351.619999999898</td>\n",
       "        </tr>\n",
       "        <tr>\n",
       "            <td>Games</td>\n",
       "            <td>4281.329999999893</td>\n",
       "        </tr>\n",
       "        <tr>\n",
       "            <td>Foreign</td>\n",
       "            <td>4270.66999999989</td>\n",
       "        </tr>\n",
       "        <tr>\n",
       "            <td>Family</td>\n",
       "            <td>4226.069999999881</td>\n",
       "        </tr>\n",
       "        <tr>\n",
       "            <td>Documentary</td>\n",
       "            <td>4217.519999999889</td>\n",
       "        </tr>\n",
       "        <tr>\n",
       "            <td>Horror</td>\n",
       "            <td>3722.5399999999213</td>\n",
       "        </tr>\n",
       "        <tr>\n",
       "            <td>Children</td>\n",
       "            <td>3655.5499999999156</td>\n",
       "        </tr>\n",
       "        <tr>\n",
       "            <td>Classics</td>\n",
       "            <td>3639.589999999915</td>\n",
       "        </tr>\n",
       "        <tr>\n",
       "            <td>Travel</td>\n",
       "            <td>3549.639999999927</td>\n",
       "        </tr>\n",
       "        <tr>\n",
       "            <td>Music</td>\n",
       "            <td>3417.7199999999307</td>\n",
       "        </tr>\n",
       "    </tbody>\n",
       "</table>"
      ],
      "text/plain": [
       "| category_name |      revenue       |\n",
       "|:-------------:|:------------------:|\n",
       "|     Sports    | 5314.209999999848  |\n",
       "|     Sci-Fi    | 4756.979999999872  |\n",
       "|   Animation   | 4656.299999999864  |\n",
       "|     Drama     | 4587.389999999875  |\n",
       "|     Comedy    | 4383.579999999896  |\n",
       "|     Action    | 4375.849999999871  |\n",
       "|      New      | 4351.619999999898  |\n",
       "|     Games     | 4281.329999999893  |\n",
       "|    Foreign    |  4270.66999999989  |\n",
       "|     Family    | 4226.069999999881  |\n",
       "|  Documentary  | 4217.519999999889  |\n",
       "|     Horror    | 3722.5399999999213 |\n",
       "|    Children   | 3655.5499999999156 |\n",
       "|    Classics   | 3639.589999999915  |\n",
       "|     Travel    | 3549.639999999927  |\n",
       "|     Music     | 3417.7199999999307 |"
      ]
     },
     "execution_count": 8,
     "metadata": {},
     "output_type": "execute_result"
    }
   ],
   "source": [
    "%%sql\n",
    "-- show revenue by category\n",
    "SELECT c.name category_name, SUM(IFNULL(p.amount, 0)) revenue\n",
    "FROM category c\n",
    "LEFT JOIN film_category fc ON c.category_id = fc.category_id\n",
    "LEFT JOIN film f ON fc.film_id = f.film_id\n",
    "LEFT JOIN inventory i ON f.film_id = i.film_id\n",
    "LEFT JOIN rental r ON i.inventory_id = r.inventory_id\n",
    "LEFT JOIN payment p ON r.rental_id = p.rental_id\n",
    "GROUP BY category_name\n",
    "ORDER BY revenue DESC;\n"
   ]
  }
 ],
 "metadata": {
  "kernelspec": {
   "display_name": "Python 3 (ipykernel)",
   "language": "python",
   "name": "python3"
  },
  "language_info": {
   "codemirror_mode": {
    "name": "ipython",
    "version": 3
   },
   "file_extension": ".py",
   "mimetype": "text/x-python",
   "name": "python",
   "nbconvert_exporter": "python",
   "pygments_lexer": "ipython3",
   "version": "3.11.3"
  }
 },
 "nbformat": 4,
 "nbformat_minor": 4
}
