{
 "cells": [
  {
   "attachments": {},
   "cell_type": "markdown",
   "id": "334482cf",
   "metadata": {},
   "source": [
    "# Node\n",
    "\n",
    "[![Open in Colab](https://colab.research.google.com/assets/colab-badge.svg)](https://colab.research.google.com/github/adamelliotfields/jupyter/blob/main/notebooks/node.ipynb)"
   ]
  },
  {
   "cell_type": "code",
   "execution_count": 1,
   "id": "2cb1028f",
   "metadata": {},
   "outputs": [
    {
     "name": "stdout",
     "output_type": "stream",
     "text": [
      "{\n",
      "  login: 'mojombo',\n",
      "  id: 1,\n",
      "  node_id: 'MDQ6VXNlcjE=',\n",
      "  avatar_url: 'https://avatars.githubusercontent.com/u/1?v=4',\n",
      "  gravatar_id: '',\n",
      "  url: 'https://api.github.com/users/mojombo',\n",
      "  html_url: 'https://github.com/mojombo',\n",
      "  followers_url: 'https://api.github.com/users/mojombo/followers',\n",
      "  following_url: 'https://api.github.com/users/mojombo/following{/other_user}',\n",
      "  gists_url: 'https://api.github.com/users/mojombo/gists{/gist_id}',\n",
      "  starred_url: 'https://api.github.com/users/mojombo/starred{/owner}{/repo}',\n",
      "  subscriptions_url: 'https://api.github.com/users/mojombo/subscriptions',\n",
      "  organizations_url: 'https://api.github.com/users/mojombo/orgs',\n",
      "  repos_url: 'https://api.github.com/users/mojombo/repos',\n",
      "  events_url: 'https://api.github.com/users/mojombo/events{/privacy}',\n",
      "  received_events_url: 'https://api.github.com/users/mojombo/received_events',\n",
      "  type: 'User',\n",
      "  site_admin: false\n",
      "}\n"
     ]
    }
   ],
   "source": [
    "import { fetch } from 'undici'\n",
    "const res = await fetch('https://api.github.com/users?page=1&per_page=1')\n",
    "const json = await res.json() as Array<any>\n",
    "console.log(json[0])\n"
   ]
  }
 ],
 "metadata": {
  "kernelspec": {
   "display_name": "TypeScript",
   "language": "typescript",
   "name": "tslab"
  },
  "language_info": {
   "codemirror_mode": {
    "mode": "typescript",
    "name": "javascript",
    "typescript": true
   },
   "file_extension": ".ts",
   "mimetype": "text/typescript",
   "name": "typescript",
   "version": "3.7.2"
  }
 },
 "nbformat": 4,
 "nbformat_minor": 5
}
