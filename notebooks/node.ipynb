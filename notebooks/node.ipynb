{
 "cells": [
  {
   "attachments": {},
   "cell_type": "markdown",
   "id": "334482cf",
   "metadata": {},
   "source": [
    "# Node"
   ]
  },
  {
   "cell_type": "markdown",
   "id": "3da3b804-8aec-4f94-b9b5-a2db0257df6e",
   "metadata": {},
   "source": [
    "## Fetch Data"
   ]
  },
  {
   "cell_type": "code",
   "execution_count": 1,
   "id": "2cb1028f",
   "metadata": {},
   "outputs": [
    {
     "name": "stdout",
     "output_type": "stream",
     "text": [
      "{\n",
      "  login: \u001b[32m'mojombo'\u001b[39m,\n",
      "  id: \u001b[33m1\u001b[39m,\n",
      "  node_id: \u001b[32m'MDQ6VXNlcjE='\u001b[39m,\n",
      "  avatar_url: \u001b[32m'https://avatars.githubusercontent.com/u/1?v=4'\u001b[39m,\n",
      "  gravatar_id: \u001b[32m''\u001b[39m,\n",
      "  url: \u001b[32m'https://api.github.com/users/mojombo'\u001b[39m,\n",
      "  html_url: \u001b[32m'https://github.com/mojombo'\u001b[39m,\n",
      "  followers_url: \u001b[32m'https://api.github.com/users/mojombo/followers'\u001b[39m,\n",
      "  following_url: \u001b[32m'https://api.github.com/users/mojombo/following{/other_user}'\u001b[39m,\n",
      "  gists_url: \u001b[32m'https://api.github.com/users/mojombo/gists{/gist_id}'\u001b[39m,\n",
      "  starred_url: \u001b[32m'https://api.github.com/users/mojombo/starred{/owner}{/repo}'\u001b[39m,\n",
      "  subscriptions_url: \u001b[32m'https://api.github.com/users/mojombo/subscriptions'\u001b[39m,\n",
      "  organizations_url: \u001b[32m'https://api.github.com/users/mojombo/orgs'\u001b[39m,\n",
      "  repos_url: \u001b[32m'https://api.github.com/users/mojombo/repos'\u001b[39m,\n",
      "  events_url: \u001b[32m'https://api.github.com/users/mojombo/events{/privacy}'\u001b[39m,\n",
      "  received_events_url: \u001b[32m'https://api.github.com/users/mojombo/received_events'\u001b[39m,\n",
      "  type: \u001b[32m'User'\u001b[39m,\n",
      "  site_admin: \u001b[33mfalse\u001b[39m\n",
      "}\n"
     ]
    }
   ],
   "source": [
    "import { fetch } from 'undici'\n",
    "const res = await fetch('https://api.github.com/users?page=1&per_page=1')\n",
    "const json = await res.json() as Array<any>\n",
    "console.log(json[0])"
   ]
  }
 ],
 "metadata": {
  "kernelspec": {
   "display_name": "TypeScript",
   "language": "typescript",
   "name": "tslab"
  },
  "language_info": {
   "codemirror_mode": {
    "mode": "typescript",
    "name": "javascript",
    "typescript": true
   },
   "file_extension": ".ts",
   "mimetype": "text/typescript",
   "name": "typescript",
   "version": "3.7.2"
  }
 },
 "nbformat": 4,
 "nbformat_minor": 5
}
